{
 "cells": [
  {
   "metadata": {
    "ExecuteTime": {
     "end_time": "2024-11-29T16:06:06.140237Z",
     "start_time": "2024-11-29T16:06:06.132804Z"
    }
   },
   "cell_type": "code",
   "source": [
    "from itertools import combinations, product\n",
    "from statistics import mode\n",
    "import numpy as np"
   ],
   "id": "2768b1ace53bf2af",
   "outputs": [],
   "execution_count": 32
  },
  {
   "metadata": {
    "ExecuteTime": {
     "end_time": "2024-11-29T16:06:06.180937Z",
     "start_time": "2024-11-29T16:06:06.160910Z"
    }
   },
   "cell_type": "code",
   "source": [
    "def generate_basis(length):\n",
    "    return [list(binary)[::-1] for binary in product([0, 1], repeat=length)]\n",
    "\n",
    "def check_zero(indices, vector):\n",
    "    return int(len(indices) == 0 or np.all(np.asarray(vector)[indices] == 0))\n",
    "\n",
    "def vectorize_check(indices, size):\n",
    "    return [check_zero(indices, vec) for vec in generate_basis(size)]\n",
    "\n",
    "\n",
    "def construct_rm_matrix(order, dimension):\n",
    "    index_sets = get_all_combinations(order, dimension)\n",
    "    return np.asarray([vectorize_check(idx, dimension) for idx in index_sets])\n",
    "\n",
    "def generate_H(index, dimension):\n",
    "    return [vec for vec in generate_basis(dimension) if check_zero(index, vec) == 1]\n",
    "\n",
    "\n",
    "def complement_indices(indices, dimension):\n",
    "    return [i for i in range(dimension) if i not in indices]\n",
    "\n",
    "\n",
    "def generate_index_combinations(size, dimension):\n",
    "    return [list(comb) for comb in combinations(range(dimension - 1, -1, -1), size)]\n",
    "\n",
    "\n",
    "def get_all_combinations(order, dimension):\n",
    "    combinations_list = []\n",
    "    for i in range(order + 1):\n",
    "        combinations_list.extend(generate_index_combinations(i, dimension))\n",
    "    return combinations_list\n",
    "\n",
    "def check_with_t(indices, target, dimension):\n",
    "    return [\n",
    "        int(np.array_equal(np.asarray(vec)[indices], np.asarray(target)[indices]))\n",
    "        for vec in generate_basis(dimension)\n",
    "    ]"
   ],
   "id": "304da00dbefcb5f6",
   "outputs": [],
   "execution_count": 33
  },
  {
   "metadata": {
    "ExecuteTime": {
     "end_time": "2024-11-29T16:06:06.225919Z",
     "start_time": "2024-11-29T16:06:06.206338Z"
    }
   },
   "cell_type": "code",
   "source": [
    "def majority_decode(received_word, subset_H, indices, dimension):\n",
    "    complementary = complement_indices(indices, dimension)\n",
    "    vote_vectors = [check_with_t(complementary, vec, dimension) for vec in subset_H]\n",
    "    votes = [np.dot(np.asarray(v), np.asarray(received_word)) % 2 for v in vote_vectors]\n",
    "    return mode(votes)\n",
    "\n",
    "\n",
    "def decode_message(received_with_error, order, dimension, generator_matrix):\n",
    "    coefficients = np.zeros(generator_matrix.shape[0], dtype=int)\n",
    "    all_indices = get_all_combinations(order, dimension)\n",
    "\n",
    "    for step in range(order, -1, -1):\n",
    "        current_combinations = generate_index_combinations(step, dimension)\n",
    "        decoding_results = []\n",
    "\n",
    "        for combination in current_combinations:\n",
    "            H_subset = generate_H(combination, dimension)\n",
    "            decoding_results.append(majority_decode(received_with_error, H_subset, combination, dimension))\n",
    "\n",
    "        start_position = all_indices.index(current_combinations[0])\n",
    "\n",
    "        for i, result in enumerate(decoding_results):\n",
    "            coefficients[i + start_position] = result\n",
    "\n",
    "        if step != 0:\n",
    "            received_with_error = (coefficients.T @ generator_matrix + received_with_error) % 2\n",
    "        else:\n",
    "            received_with_error = coefficients.T @ generator_matrix % 2\n",
    "\n",
    "        print(f\"Слово после шага {order - step}: {received_with_error}\")\n",
    "\n",
    "    return received_with_error"
   ],
   "id": "439df75d16b2c3d8",
   "outputs": [],
   "execution_count": 34
  },
  {
   "metadata": {
    "ExecuteTime": {
     "end_time": "2024-11-29T16:06:06.269225Z",
     "start_time": "2024-11-29T16:06:06.252837Z"
    }
   },
   "cell_type": "code",
   "source": [
    "r, m = 2, 4\n",
    "generator_matrix = construct_rm_matrix(r, m)\n",
    "print(\"Порождающая матрица G:\\n\", generator_matrix)"
   ],
   "id": "8a9f9228cd3cbc41",
   "outputs": [
    {
     "name": "stdout",
     "output_type": "stream",
     "text": [
      "Порождающая матрица G:\n",
      " [[1 1 1 1 1 1 1 1 1 1 1 1 1 1 1 1]\n",
      " [1 1 1 1 1 1 1 1 0 0 0 0 0 0 0 0]\n",
      " [1 1 1 1 0 0 0 0 1 1 1 1 0 0 0 0]\n",
      " [1 1 0 0 1 1 0 0 1 1 0 0 1 1 0 0]\n",
      " [1 0 1 0 1 0 1 0 1 0 1 0 1 0 1 0]\n",
      " [1 1 1 1 0 0 0 0 0 0 0 0 0 0 0 0]\n",
      " [1 1 0 0 1 1 0 0 0 0 0 0 0 0 0 0]\n",
      " [1 0 1 0 1 0 1 0 0 0 0 0 0 0 0 0]\n",
      " [1 1 0 0 0 0 0 0 1 1 0 0 0 0 0 0]\n",
      " [1 0 1 0 0 0 0 0 1 0 1 0 0 0 0 0]\n",
      " [1 0 0 0 1 0 0 0 1 0 0 0 1 0 0 0]]\n"
     ]
    }
   ],
   "execution_count": 35
  },
  {
   "metadata": {
    "ExecuteTime": {
     "end_time": "2024-11-29T16:06:06.384243Z",
     "start_time": "2024-11-29T16:06:06.374675Z"
    }
   },
   "cell_type": "code",
   "source": [
    "original_message = np.array([0, 1, 0, 0, 0, 0, 0, 0, 0, 1, 0])\n",
    "print(\"Исходное сообщение: \", original_message)"
   ],
   "id": "8672fdc5486781a5",
   "outputs": [
    {
     "name": "stdout",
     "output_type": "stream",
     "text": [
      "Исходное сообщение:  [0 1 0 0 0 0 0 0 0 1 0]\n"
     ]
    }
   ],
   "execution_count": 36
  },
  {
   "metadata": {
    "ExecuteTime": {
     "end_time": "2024-11-29T16:06:06.441745Z",
     "start_time": "2024-11-29T16:06:06.433318Z"
    }
   },
   "cell_type": "code",
   "source": [
    "encoded_message = original_message @ generator_matrix % 2\n",
    "print(\"Закодированное сообщение: \", encoded_message)"
   ],
   "id": "244d9b49bd72c911",
   "outputs": [
    {
     "name": "stdout",
     "output_type": "stream",
     "text": [
      "Закодированное сообщение:  [0 1 0 1 1 1 1 1 1 0 1 0 0 0 0 0]\n"
     ]
    }
   ],
   "execution_count": 37
  },
  {
   "metadata": {
    "ExecuteTime": {
     "end_time": "2024-11-29T16:06:06.561240Z",
     "start_time": "2024-11-29T16:06:06.553181Z"
    }
   },
   "cell_type": "code",
   "source": [
    "error_matrix = np.eye(16, dtype=int)\n",
    "message_with_error = (encoded_message + error_matrix[4]) % 2\n",
    "print(\"Сообщение с ошибкой: \", message_with_error)"
   ],
   "id": "c2491512ea069034",
   "outputs": [
    {
     "name": "stdout",
     "output_type": "stream",
     "text": [
      "Сообщение с ошибкой:  [0 1 0 1 0 1 1 1 1 0 1 0 0 0 0 0]\n"
     ]
    }
   ],
   "execution_count": 38
  },
  {
   "metadata": {
    "ExecuteTime": {
     "end_time": "2024-11-29T16:06:06.726836Z",
     "start_time": "2024-11-29T16:06:06.676887Z"
    }
   },
   "cell_type": "code",
   "source": [
    "decoded_message = decode_message(message_with_error, r, m, generator_matrix)\n",
    "print(\"Декодированное сообщение: \", decoded_message)"
   ],
   "id": "cdf61da491459bd4",
   "outputs": [
    {
     "name": "stdout",
     "output_type": "stream",
     "text": [
      "Слово после шага 0: [1 1 1 1 0 1 1 1 0 0 0 0 0 0 0 0]\n",
      "Слово после шага 1: [1 0 1 0 1 0 0 0 1 0 1 0 0 0 0 0]\n",
      "Слово после шага 2: [0 1 0 1 1 1 1 1 1 0 1 0 0 0 0 0]\n",
      "Декодированное сообщение:  [0 1 0 1 1 1 1 1 1 0 1 0 0 0 0 0]\n"
     ]
    }
   ],
   "execution_count": 39
  },
  {
   "metadata": {
    "ExecuteTime": {
     "end_time": "2024-11-29T16:06:06.885786Z",
     "start_time": "2024-11-29T16:06:06.878901Z"
    }
   },
   "cell_type": "code",
   "source": [
    "if np.array_equal(encoded_message, decoded_message):\n",
    "    print(\"Закодированное и декодированное сообщения совпадают.\\n\")\n",
    "else:\n",
    "    print(\"Закодированное и декодированное сообщения не совпадают.\\n\")"
   ],
   "id": "6cabb9d85871bb3f",
   "outputs": [
    {
     "name": "stdout",
     "output_type": "stream",
     "text": [
      "Закодированное и декодированное сообщения совпадают.\n",
      "\n"
     ]
    }
   ],
   "execution_count": 40
  }
 ],
 "metadata": {
  "kernelspec": {
   "display_name": "Python 3",
   "language": "python",
   "name": "python3"
  },
  "language_info": {
   "codemirror_mode": {
    "name": "ipython",
    "version": 2
   },
   "file_extension": ".py",
   "mimetype": "text/x-python",
   "name": "python",
   "nbconvert_exporter": "python",
   "pygments_lexer": "ipython2",
   "version": "2.7.6"
  }
 },
 "nbformat": 4,
 "nbformat_minor": 5
}
