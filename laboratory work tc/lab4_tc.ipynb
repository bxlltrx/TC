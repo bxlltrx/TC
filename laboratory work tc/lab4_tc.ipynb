{
 "cells": [
  {
   "metadata": {
    "ExecuteTime": {
     "end_time": "2024-11-29T11:15:44.295973Z",
     "start_time": "2024-11-29T11:15:44.282239Z"
    }
   },
   "cell_type": "code",
   "source": [
    "import numpy as np\n",
    "from itertools import product\n",
    "from itertools import combinations"
   ],
   "id": "37f15c4405903749",
   "outputs": [],
   "execution_count": 78
  },
  {
   "metadata": {},
   "cell_type": "markdown",
   "source": "4.1 Написать функцию формирования порождающей и проверочной матриц расширенного кода Голея (24,12,8)",
   "id": "8d1586de4944726b"
  },
  {
   "metadata": {
    "ExecuteTime": {
     "end_time": "2024-11-29T10:27:54.732416Z",
     "start_time": "2024-11-29T10:27:54.725634Z"
    }
   },
   "cell_type": "code",
   "source": [
    "# Расширенный код Голея\n",
    "B = np.array([\n",
    "    [1, 1, 0, 1, 1, 1, 0, 0, 0, 1, 0, 1],\n",
    "    [1, 0, 1, 1, 1, 0, 0, 0, 1, 0, 1, 1],\n",
    "    [0, 1, 1, 1, 0, 0, 0, 1, 0, 1, 1, 1],\n",
    "    [1, 1, 1, 0, 0, 0, 1, 0, 1, 1, 0, 1],\n",
    "    [1, 1, 0, 0, 0, 1, 0, 1, 1, 0, 1, 1],\n",
    "    [1, 0, 0, 0, 1, 0, 1, 1, 0, 1, 1, 1],\n",
    "    [0, 0, 0, 1, 0, 1, 1, 0, 1, 1, 1, 1],\n",
    "    [0, 0, 1, 0, 1, 1, 0, 1, 1, 1, 0, 1],\n",
    "    [0, 1, 0, 1, 1, 0, 1, 1, 1, 0, 0, 1],\n",
    "    [1, 0, 1, 1, 0, 1, 1, 1, 0, 0, 0, 1],\n",
    "    [0, 1, 1, 0, 1, 1, 1, 0, 0, 0, 1, 1],\n",
    "    [1, 1, 1, 1, 1, 1, 1, 1, 1, 1, 1, 0]])"
   ],
   "id": "3fe4443dad159d6",
   "outputs": [],
   "execution_count": 32
  },
  {
   "metadata": {
    "ExecuteTime": {
     "end_time": "2024-11-29T10:27:54.763912Z",
     "start_time": "2024-11-29T10:27:54.749482Z"
    }
   },
   "cell_type": "code",
   "source": [
    "def golay_24_12_8_matrices(B):\n",
    "    I = np.eye(12, dtype=int)  # Единичная матрица 12x12\n",
    "    G = np.hstack((I, B))  # [I | P]\n",
    "\n",
    "    # Проверочная матрица H (12 x 24)\n",
    "    H = np.hstack((B.T, I))  # [P^T | I]\n",
    "\n",
    "    return G, H\n",
    "G, H = golay_24_12_8_matrices(B)\n",
    "print(\"Порождающая матрица G:\")\n",
    "print(G)\n",
    "print(\"\\nПроверочная матрица H:\")\n",
    "print(H)"
   ],
   "id": "c6dc714416dc8050",
   "outputs": [
    {
     "name": "stdout",
     "output_type": "stream",
     "text": [
      "Порождающая матрица G:\n",
      "[[1 0 0 0 0 0 0 0 0 0 0 0 1 1 0 1 1 1 0 0 0 1 0 1]\n",
      " [0 1 0 0 0 0 0 0 0 0 0 0 1 0 1 1 1 0 0 0 1 0 1 1]\n",
      " [0 0 1 0 0 0 0 0 0 0 0 0 0 1 1 1 0 0 0 1 0 1 1 1]\n",
      " [0 0 0 1 0 0 0 0 0 0 0 0 1 1 1 0 0 0 1 0 1 1 0 1]\n",
      " [0 0 0 0 1 0 0 0 0 0 0 0 1 1 0 0 0 1 0 1 1 0 1 1]\n",
      " [0 0 0 0 0 1 0 0 0 0 0 0 1 0 0 0 1 0 1 1 0 1 1 1]\n",
      " [0 0 0 0 0 0 1 0 0 0 0 0 0 0 0 1 0 1 1 0 1 1 1 1]\n",
      " [0 0 0 0 0 0 0 1 0 0 0 0 0 0 1 0 1 1 0 1 1 1 0 1]\n",
      " [0 0 0 0 0 0 0 0 1 0 0 0 0 1 0 1 1 0 1 1 1 0 0 1]\n",
      " [0 0 0 0 0 0 0 0 0 1 0 0 1 0 1 1 0 1 1 1 0 0 0 1]\n",
      " [0 0 0 0 0 0 0 0 0 0 1 0 0 1 1 0 1 1 1 0 0 0 1 1]\n",
      " [0 0 0 0 0 0 0 0 0 0 0 1 1 1 1 1 1 1 1 1 1 1 1 0]]\n",
      "\n",
      "Проверочная матрица H:\n",
      "[[1 1 0 1 1 1 0 0 0 1 0 1 1 0 0 0 0 0 0 0 0 0 0 0]\n",
      " [1 0 1 1 1 0 0 0 1 0 1 1 0 1 0 0 0 0 0 0 0 0 0 0]\n",
      " [0 1 1 1 0 0 0 1 0 1 1 1 0 0 1 0 0 0 0 0 0 0 0 0]\n",
      " [1 1 1 0 0 0 1 0 1 1 0 1 0 0 0 1 0 0 0 0 0 0 0 0]\n",
      " [1 1 0 0 0 1 0 1 1 0 1 1 0 0 0 0 1 0 0 0 0 0 0 0]\n",
      " [1 0 0 0 1 0 1 1 0 1 1 1 0 0 0 0 0 1 0 0 0 0 0 0]\n",
      " [0 0 0 1 0 1 1 0 1 1 1 1 0 0 0 0 0 0 1 0 0 0 0 0]\n",
      " [0 0 1 0 1 1 0 1 1 1 0 1 0 0 0 0 0 0 0 1 0 0 0 0]\n",
      " [0 1 0 1 1 0 1 1 1 0 0 1 0 0 0 0 0 0 0 0 1 0 0 0]\n",
      " [1 0 1 1 0 1 1 1 0 0 0 1 0 0 0 0 0 0 0 0 0 1 0 0]\n",
      " [0 1 1 0 1 1 1 0 0 0 1 1 0 0 0 0 0 0 0 0 0 0 1 0]\n",
      " [1 1 1 1 1 1 1 1 1 1 1 0 0 0 0 0 0 0 0 0 0 0 0 1]]\n"
     ]
    }
   ],
   "execution_count": 33
  },
  {
   "metadata": {},
   "cell_type": "markdown",
   "source": [
    "4.2. Провести исследование расширенного кода Голея для одно-, двух-, \n",
    "трёх- и четырёхкратных ошибок. "
   ],
   "id": "e3728e0a644e0110"
  },
  {
   "metadata": {
    "ExecuteTime": {
     "end_time": "2024-11-29T10:27:54.795683Z",
     "start_time": "2024-11-29T10:27:54.780969Z"
    }
   },
   "cell_type": "code",
   "source": [
    "def encode_message(message, G):\n",
    "    return np.dot(message, G) % 2\n",
    "\n",
    "def introduce_errors(codeword, num_errors):\n",
    "    error_positions = np.random.choice(24, num_errors, replace=False)\n",
    "    error_vector = np.zeros(24, dtype=int)\n",
    "    error_vector[error_positions] = 1\n",
    "    return (codeword + error_vector) % 2\n",
    "\n",
    "def decode_message(received, H):\n",
    "    syndrome = np.dot(received, H.T) % 2\n",
    "    if np.all(syndrome == 0):\n",
    "        return received[:12]\n",
    "\n",
    "    # Проверка на однократную ошибку\n",
    "    for i in range(24):\n",
    "        if np.array_equal(syndrome, H[:, i]):\n",
    "            received[i] = (received[i] + 1) % 2\n",
    "            return received[:12]\n",
    "\n",
    "    # Проверка на двукратную ошибку\n",
    "    for i, j in combinations(range(24), 2):\n",
    "        if np.array_equal(syndrome, (H[:, i] + H[:, j]) % 2):\n",
    "            received[i] = (received[i] + 1) % 2\n",
    "            received[j] = (received[j] + 1) % 2\n",
    "            return received[:12]\n",
    "\n",
    "    # Проверка на трехкратную ошибку\n",
    "    for i, j, k in combinations(range(24), 3):\n",
    "        if np.array_equal(syndrome, (H[:, i] + H[:, j] + H[:, k]) % 2):\n",
    "            received[i] = (received[i] + 1) % 2\n",
    "            received[j] = (received[j] + 1) % 2\n",
    "            received[k] = (received[k] + 1) % 2\n",
    "            return received[:12]\n",
    "\n",
    "    # Если ошибка не обнаружена, возвращаем исходное сообщение\n",
    "    return received[:12]\n",
    "\n",
    "def test_error_correction(num_tests, num_errors):\n",
    "    success = 0\n",
    "    for _ in range(num_tests):\n",
    "        message = np.random.randint(2, size=12)\n",
    "        codeword = encode_message(message, G)\n",
    "        received = introduce_errors(codeword, num_errors)\n",
    "        decoded = decode_message(received, H)\n",
    "        if np.array_equal(message, decoded):\n",
    "            success += 1\n",
    "    return success / num_tests"
   ],
   "id": "83dbe38909d25f39",
   "outputs": [],
   "execution_count": 34
  },
  {
   "metadata": {
    "ExecuteTime": {
     "end_time": "2024-11-29T10:31:26.880899Z",
     "start_time": "2024-11-29T10:27:54.814116Z"
    }
   },
   "cell_type": "code",
   "source": [
    "# Проведем тестирование\n",
    "num_tests = 10000\n",
    "for errors in range(1, 5):\n",
    "    success_rate = test_error_correction(num_tests, errors)\n",
    "    print(f\"Успешность исправления {errors}-кратных ошибок: {success_rate:.2%}\")"
   ],
   "id": "30b82f8fa070bef6",
   "outputs": [
    {
     "name": "stdout",
     "output_type": "stream",
     "text": [
      "Успешность исправления 1-кратных ошибок: 100.00%\n",
      "Успешность исправления 2-кратных ошибок: 100.00%\n",
      "Успешность исправления 3-кратных ошибок: 100.00%\n",
      "Успешность исправления 4-кратных ошибок: 4.68%\n"
     ]
    }
   ],
   "execution_count": 35
  },
  {
   "metadata": {},
   "cell_type": "markdown",
   "source": [
    "4.3 Написать функцию формирования порождающей и проверочных \n",
    "матриц кода Рида-Маллера 𝑅𝑀(𝑟,𝑚) на основе параметров 𝑟 и 𝑚. "
   ],
   "id": "a296373b0c95ba44"
  },
  {
   "metadata": {
    "ExecuteTime": {
     "end_time": "2024-11-29T11:16:20.974848Z",
     "start_time": "2024-11-29T11:16:20.930067Z"
    }
   },
   "cell_type": "code",
   "source": [
    "def G_RM(r, m):\n",
    "    if 0 < r < m:\n",
    "        leftup = G_RM(r, m - 1)\n",
    "        rightlow = G_RM(r - 1, m - 1)\n",
    "        return np.hstack([np.vstack([leftup, np.zeros((len(rightlow), len(leftup.T)), int)]),\n",
    "                          np.vstack([leftup, rightlow])])\n",
    "    elif r == 0:\n",
    "        return np.ones((1, 2 ** m), dtype=int)\n",
    "    elif r == m:\n",
    "        up = G_RM(m - 1, m)\n",
    "        low = np.zeros((1, 2 ** m), dtype=int)\n",
    "        low[0][len(low.T) - 1] = 1\n",
    "        return np.vstack([up, low])"
   ],
   "id": "237f26ab2fa0547c",
   "outputs": [],
   "execution_count": 79
  },
  {
   "metadata": {
    "ExecuteTime": {
     "end_time": "2024-11-29T11:16:23.352680Z",
     "start_time": "2024-11-29T11:16:23.331594Z"
    }
   },
   "cell_type": "code",
   "source": [
    "r, m = 1, 3\n",
    "G =  G_RM(r, m)\n",
    "\n",
    "print(\"Порождающая матрица G:\")\n",
    "print(G)"
   ],
   "id": "d9096764feb03787",
   "outputs": [
    {
     "name": "stdout",
     "output_type": "stream",
     "text": [
      "Порождающая матрица G:\n",
      "[[1 1 1 1 1 1 1 1]\n",
      " [0 1 0 1 0 1 0 1]\n",
      " [0 0 1 1 0 0 1 1]\n",
      " [0 0 0 0 1 1 1 1]]\n"
     ]
    }
   ],
   "execution_count": 80
  },
  {
   "metadata": {},
   "cell_type": "markdown",
   "source": [
    "4.4 Провести исследование кода Рида-Маллера 𝑅𝑀(1,3) для одно- и \n",
    "двукратных ошибок."
   ],
   "id": "cea00e276e301f0a"
  },
  {
   "metadata": {
    "ExecuteTime": {
     "end_time": "2024-11-29T11:16:25.784117Z",
     "start_time": "2024-11-29T11:16:25.762135Z"
    }
   },
   "cell_type": "code",
   "source": [
    "def encode(message, G):\n",
    "    return np.dot(message, G) % 2\n",
    "\n",
    "def add_errors(codeword, num_errors):\n",
    "    n = len(codeword)\n",
    "    error_positions = np.random.choice(n, num_errors, replace=False)\n",
    "    error_vector = np.zeros(n, dtype=int)\n",
    "    error_vector[error_positions] = 1\n",
    "    return (codeword + error_vector) % 2\n",
    "\n",
    "def decode(received, G):\n",
    "    n = G.shape[1]\n",
    "    k = G.shape[0]\n",
    "    all_codewords = [encode(msg, G) for msg in np.array(list(product([0, 1], repeat=k)))]\n",
    "\n",
    "    min_distance = float('inf')\n",
    "    decoded_codeword = None\n",
    "\n",
    "    for codeword in all_codewords:\n",
    "        distance = np.sum(codeword != received)\n",
    "        if distance < min_distance:\n",
    "            min_distance = distance\n",
    "            decoded_codeword = codeword\n",
    "\n",
    "    return decoded_codeword\n",
    "\n",
    "def test_error_correction(r, m, num_errors, num_tests=1000):\n",
    "    G = G_RM(r, m)\n",
    "    k = G.shape[0]\n",
    "    n = G.shape[1]\n",
    "\n",
    "    success_count = 0\n",
    "\n",
    "    for _ in range(num_tests):\n",
    "        message = np.random.randint(2, size=k)\n",
    "        codeword = encode(message, G)\n",
    "        received = add_errors(codeword, num_errors)\n",
    "        decoded = decode(received, G)\n",
    "\n",
    "        if np.array_equal(codeword, decoded):\n",
    "            success_count += 1\n",
    "\n",
    "    success_rate = success_count / num_tests\n",
    "    print(f\"RM({r},{m}) с {num_errors} ошибками: Успешно исправлено {success_rate:.2%}\")\n"
   ],
   "id": "c8e66f3a483e3dff",
   "outputs": [],
   "execution_count": 81
  },
  {
   "metadata": {
    "ExecuteTime": {
     "end_time": "2024-11-29T11:16:29.174182Z",
     "start_time": "2024-11-29T11:16:28.336437Z"
    }
   },
   "cell_type": "code",
   "source": [
    "print(\"Тестирование RM(1,3):\")\n",
    "test_error_correction(1, 3, 1)\n",
    "test_error_correction(1, 3, 2)"
   ],
   "id": "a599c8abd43dcb2d",
   "outputs": [
    {
     "name": "stdout",
     "output_type": "stream",
     "text": [
      "Тестирование RM(1,3):\n",
      "RM(1,3) с 1 ошибками: Успешно исправлено 100.00%\n",
      "RM(1,3) с 2 ошибками: Успешно исправлено 25.30%\n"
     ]
    }
   ],
   "execution_count": 82
  },
  {
   "metadata": {
    "ExecuteTime": {
     "end_time": "2024-11-29T11:16:34.611626Z",
     "start_time": "2024-11-29T11:16:31.401251Z"
    }
   },
   "cell_type": "code",
   "source": [
    "print(\"\\nТестирование RM(1,4):\")\n",
    "test_error_correction(1, 4, 1)\n",
    "test_error_correction(1, 4, 2)\n",
    "test_error_correction(1, 4, 3)\n",
    "test_error_correction(1, 4, 4)"
   ],
   "id": "63f2439bb66506ac",
   "outputs": [
    {
     "name": "stdout",
     "output_type": "stream",
     "text": [
      "\n",
      "Тестирование RM(1,4):\n",
      "RM(1,4) с 1 ошибками: Успешно исправлено 100.00%\n",
      "RM(1,4) с 2 ошибками: Успешно исправлено 100.00%\n",
      "RM(1,4) с 3 ошибками: Успешно исправлено 100.00%\n",
      "RM(1,4) с 4 ошибками: Успешно исправлено 44.80%\n"
     ]
    }
   ],
   "execution_count": 83
  }
 ],
 "metadata": {
  "kernelspec": {
   "display_name": "Python 3",
   "language": "python",
   "name": "python3"
  },
  "language_info": {
   "codemirror_mode": {
    "name": "ipython",
    "version": 2
   },
   "file_extension": ".py",
   "mimetype": "text/x-python",
   "name": "python",
   "nbconvert_exporter": "python",
   "pygments_lexer": "ipython2",
   "version": "2.7.6"
  }
 },
 "nbformat": 4,
 "nbformat_minor": 5
}
