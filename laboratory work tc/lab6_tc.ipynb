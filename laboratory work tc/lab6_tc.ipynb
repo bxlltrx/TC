{
 "cells": [
  {
   "metadata": {
    "ExecuteTime": {
     "end_time": "2024-11-29T16:16:56.279487Z",
     "start_time": "2024-11-29T16:16:56.273412Z"
    }
   },
   "cell_type": "code",
   "source": [
    "import numpy as np\n",
    "import random"
   ],
   "id": "d2dc16dad2bfa41a",
   "outputs": [],
   "execution_count": 6
  },
  {
   "metadata": {
    "ExecuteTime": {
     "end_time": "2024-11-29T16:16:56.332415Z",
     "start_time": "2024-11-29T16:16:56.303507Z"
    }
   },
   "cell_type": "code",
   "source": [
    "def encode(data, poly):\n",
    "    return np.polymul(data, poly) % 2\n",
    "\n",
    "def add_random_errors(vector, count):\n",
    "    size = len(vector)\n",
    "    indices = random.sample(range(size), count)\n",
    "    for idx in indices:\n",
    "        vector[idx] ^= 1\n",
    "    return vector, indices\n",
    "\n",
    "def add_error_burst(vector, burst_size):\n",
    "    size = len(vector)\n",
    "    start = random.randint(0, size - burst_size)\n",
    "    for i in range(burst_size):\n",
    "        vector[(start + i) % size] ^= 1\n",
    "    return vector, list(range(start, start + burst_size))\n",
    "\n",
    "def check_burst(error, max_burst):\n",
    "    error = np.trim_zeros(error, 'f')\n",
    "    error = np.trim_zeros(error, 'b')\n",
    "    return 0 < len(error) <= max_burst\n",
    "\n",
    "def decode(vector, poly, threshold, burst_mode):\n",
    "    length = len(vector)\n",
    "    syndrome = np.polydiv(vector, poly)[1] % 2\n",
    "    for shift in range(length):\n",
    "        error_poly = np.zeros(length, dtype=int)\n",
    "        error_poly[length - shift - 1] = 1\n",
    "        product = np.polymul(syndrome, error_poly) % 2\n",
    "        reduced_syndrome = np.polydiv(product, poly)[1] % 2\n",
    "        if burst_mode:\n",
    "            if check_burst(reduced_syndrome, threshold):\n",
    "                corrected = np.polyadd(np.polymul(np.roll(np.eye(1, length, shift)[0], -1), reduced_syndrome) % 2, vector) % 2\n",
    "                return np.array(np.polydiv(corrected, poly)[0] % 2).astype(int), shift\n",
    "        else:\n",
    "            if sum(reduced_syndrome) <= threshold:\n",
    "                corrected = np.polyadd(np.polymul(np.roll(np.eye(1, length, shift)[0], -1), reduced_syndrome) % 2, vector) % 2\n",
    "                return np.array(np.polydiv(corrected, poly)[0] % 2).astype(int), shift\n",
    "    return None, None"
   ],
   "id": "e84b3d4912b59a97",
   "outputs": [],
   "execution_count": 7
  },
  {
   "metadata": {
    "ExecuteTime": {
     "end_time": "2024-11-29T16:16:56.384042Z",
     "start_time": "2024-11-29T16:16:56.354140Z"
    }
   },
   "cell_type": "code",
   "source": [
    "poly = np.array([1, 1, 0, 1])\n",
    "threshold = 1\n",
    "for errors in range(1, 4):\n",
    "    message = np.array([1, 0, 1, 0])\n",
    "    print(f\"Original message: {message}\")\n",
    "    encoded = encode(message, poly)\n",
    "    print(f\"Encoded message: {encoded}\")\n",
    "    corrupted, error_positions = add_random_errors(encoded.copy(), errors)\n",
    "    print(f\"Corrupted message: {corrupted}, Errors introduced at: {error_positions}\")\n",
    "    decoded, correction_shift = decode(corrupted, poly, threshold, burst_mode=False)\n",
    "    print(f\"Decoded message: {decoded}\")\n",
    "    print(f\"Correction applied at position: {correction_shift}\")\n",
    "    if np.array_equal(message, decoded):\n",
    "        print(\"Success: Decoded message matches the original.\\n\")\n",
    "    else:\n",
    "        print(\"Failure: Decoded message does not match the original.\\n\")"
   ],
   "id": "c31f46662e1e9c65",
   "outputs": [
    {
     "name": "stdout",
     "output_type": "stream",
     "text": [
      "Original message: [1 0 1 0]\n",
      "Encoded message: [1 1 1 0 0 1 0]\n",
      "Corrupted message: [0 1 1 0 0 1 0], Errors introduced at: [0]\n",
      "Decoded message: [1 0 1 0]\n",
      "Correction applied at position: 1\n",
      "Success: Decoded message matches the original.\n",
      "\n",
      "Original message: [1 0 1 0]\n",
      "Encoded message: [1 1 1 0 0 1 0]\n",
      "Corrupted message: [1 1 1 0 1 0 0], Errors introduced at: [5, 4]\n",
      "Decoded message: [0 1 0 0]\n",
      "Correction applied at position: 1\n",
      "Failure: Decoded message does not match the original.\n",
      "\n",
      "Original message: [1 0 1 0]\n",
      "Encoded message: [1 1 1 0 0 1 0]\n",
      "Corrupted message: [1 1 0 0 0 0 1], Errors introduced at: [6, 5, 2]\n",
      "Decoded message: [1 0 0 1]\n",
      "Correction applied at position: 0\n",
      "Failure: Decoded message does not match the original.\n",
      "\n"
     ]
    }
   ],
   "execution_count": 8
  },
  {
   "metadata": {
    "ExecuteTime": {
     "end_time": "2024-11-29T16:16:56.525279Z",
     "start_time": "2024-11-29T16:16:56.482861Z"
    }
   },
   "cell_type": "code",
   "source": [
    "poly = np.array([1, 0, 0, 1, 1, 1, 1])\n",
    "threshold = 3\n",
    "for burst in range(1, 5):\n",
    "    message = np.array([1, 1, 0, 0, 0, 1, 0, 0, 0])\n",
    "    print(f\"Original message: {message}\")\n",
    "    encoded = encode(message, poly)\n",
    "    print(f\"Encoded message: {encoded}\")\n",
    "    corrupted, error_positions = add_error_burst(encoded.copy(), burst)\n",
    "    print(f\"Corrupted message: {corrupted}, Error burst positions: {error_positions}\")\n",
    "    decoded, correction_shift = decode(corrupted, poly, threshold, burst_mode=True)\n",
    "    print(f\"Decoded message: {decoded}\")\n",
    "    print(f\"Correction applied starting near position: {correction_shift}\")\n",
    "    if np.array_equal(message, decoded):\n",
    "        print(\"Success: Decoded message matches the original.\\n\")\n",
    "    else:\n",
    "        print(\"Failure: Decoded message does not match the original.\\n\")"
   ],
   "id": "782a7813fedc08de",
   "outputs": [
    {
     "name": "stdout",
     "output_type": "stream",
     "text": [
      "Original message: [1 1 0 0 0 1 0 0 0]\n",
      "Encoded message: [1 1 0 1 0 1 0 1 1 1 1 1 0 0 0]\n",
      "Corrupted message: [1 0 0 1 0 1 0 1 1 1 1 1 0 0 0], Error burst positions: [1]\n",
      "Decoded message: [1 1 0 0 0 1 0 0 0]\n",
      "Correction applied starting near position: 2\n",
      "Success: Decoded message matches the original.\n",
      "\n",
      "Original message: [1 1 0 0 0 1 0 0 0]\n",
      "Encoded message: [1 1 0 1 0 1 0 1 1 1 1 1 0 0 0]\n",
      "Corrupted message: [1 1 0 1 0 1 0 1 1 0 0 1 0 0 0], Error burst positions: [9, 10]\n",
      "Decoded message: [1 1 0 0 0 1 0 0 0]\n",
      "Correction applied starting near position: 0\n",
      "Success: Decoded message matches the original.\n",
      "\n",
      "Original message: [1 1 0 0 0 1 0 0 0]\n",
      "Encoded message: [1 1 0 1 0 1 0 1 1 1 1 1 0 0 0]\n",
      "Corrupted message: [1 0 1 0 0 1 0 1 1 1 1 1 0 0 0], Error burst positions: [1, 2, 3]\n",
      "Decoded message: [1 1 0 0 0 1 0 0 0]\n",
      "Correction applied starting near position: 4\n",
      "Success: Decoded message matches the original.\n",
      "\n",
      "Original message: [1 1 0 0 0 1 0 0 0]\n",
      "Encoded message: [1 1 0 1 0 1 0 1 1 1 1 1 0 0 0]\n",
      "Corrupted message: [1 1 0 1 0 1 0 1 1 1 0 0 1 1 0], Error burst positions: [10, 11, 12, 13]\n",
      "Decoded message: [1 1 0 0 0 1 0 1 0]\n",
      "Correction applied starting near position: 8\n",
      "Failure: Decoded message does not match the original.\n",
      "\n"
     ]
    }
   ],
   "execution_count": 9
  }
 ],
 "metadata": {
  "kernelspec": {
   "display_name": "Python 3",
   "language": "python",
   "name": "python3"
  },
  "language_info": {
   "codemirror_mode": {
    "name": "ipython",
    "version": 2
   },
   "file_extension": ".py",
   "mimetype": "text/x-python",
   "name": "python",
   "nbconvert_exporter": "python",
   "pygments_lexer": "ipython2",
   "version": "2.7.6"
  }
 },
 "nbformat": 4,
 "nbformat_minor": 5
}
